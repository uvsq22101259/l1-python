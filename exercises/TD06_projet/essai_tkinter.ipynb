{
 "cells": [
  {
   "cell_type": "code",
   "execution_count": 30,
   "metadata": {},
   "outputs": [],
   "source": [
    "def compteur_de_buts():\n",
    "    global cpt\n",
    "    cpt += 1\n",
    "    label.config(text= str(cpt) + \"-\"+ str(but))\n",
    "def compteur_de_buts2():\n",
    "    global but\n",
    "    but += 1\n",
    "    label.config(text= str(cpt) + \"-\"+ str(but))\n",
    "    \n",
    "cpt = 0\n",
    "but = 0\n",
    "import tkinter as tk\n",
    "racine = tk.Tk()\n",
    "racine.title(\"psg-bruges\")\n",
    "label = tk.Label(racine,text=\"\")\n",
    "label.grid(column=1,row=0)\n",
    "bouton = tk.Button(racine, text = \"but equipe\", command= compteur_de_buts)\n",
    "bouton.grid( column = 1, row = 1 )\n",
    "bouton = tk.Button(racine, text = \"but adverse\", command= compteur_de_buts2)\n",
    "bouton.grid( column = 2, row = 1 )\n",
    "label = tk.Label(racine,text=\"\")\n",
    "label.grid(column=1,row=0)\n",
    "\n",
    "racine.mainloop()"
   ]
  },
  {
   "cell_type": "code",
   "execution_count": 29,
   "metadata": {},
   "outputs": [],
   "source": [
    "def phrase_create():\n",
    "    global cpt\n",
    "    cpt += 1\n",
    "    couleurs = [\"red\", \"green\", \"blue\", \"cyan\", \"yellow\"]\n",
    "    nb = rd.randrange(0,4)\n",
    "    label = tk.Label(racine,text= input(\"tu veux quellle phrase ?\"), fg = rd.choice(couleurs) )\n",
    "    label.grid(column=0,row= cpt)\n",
    "\n",
    "\n",
    "\n",
    "\n",
    "import random as rd\n",
    "import tkinter as tk\n",
    "cpt = 0\n",
    "racine = tk.Tk()\n",
    "bouton = tk.Button(racine, text = \"céer une phrase\", font = (\"helvetica\", \"30\"), command=phrase_create)\n",
    "bouton.grid(column=0,row=0)\n",
    "racine.mainloop()"
   ]
  },
  {
   "cell_type": "code",
   "execution_count": 35,
   "metadata": {},
   "outputs": [],
   "source": [
    "import tkinter as tk\n",
    "racine = tk.Tk()\n",
    "label = tk.Label(racine,fg = \"black\", bg =\"red\", text= \"je m'appelle Adam\", font = (\"helvetica\",\"100\"),)\n",
    "label.grid()\n",
    "racine.mainloop()"
   ]
  }
 ],
 "metadata": {
  "interpreter": {
   "hash": "77484ce416118502741a8d3f016440e56baf463ce99ead0d2989916382f7c35f"
  },
  "kernelspec": {
   "display_name": "Python 3.9.7 64-bit ('l1-python': conda)",
   "language": "python",
   "name": "python3"
  },
  "language_info": {
   "codemirror_mode": {
    "name": "ipython",
    "version": 3
   },
   "file_extension": ".py",
   "mimetype": "text/x-python",
   "name": "python",
   "nbconvert_exporter": "python",
   "pygments_lexer": "ipython3",
   "version": "3.9.7"
  },
  "orig_nbformat": 4
 },
 "nbformat": 4,
 "nbformat_minor": 2
}
