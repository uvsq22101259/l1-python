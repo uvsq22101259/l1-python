{
 "cells": [
  {
   "cell_type": "code",
   "execution_count": 12,
   "metadata": {},
   "outputs": [],
   "source": [
    "def salopete():\n",
    "    salopette.config(text= \"elle est cool votre salopette\")\n",
    "\n",
    "import tkinter as tk\n",
    "racine = tk.Tk()\n",
    "racine.title(\"j'aime bien\")\n",
    "salopette = tk.Label(racine,text= \" \")\n",
    "salopette.grid(column=0,row=1)\n",
    "boutton = tk.Button(racine,text= \"cliquez\", command=salopete)\n",
    "boutton.grid(column=0,row=0)\n",
    "racine.mainloop()\n"
   ]
  }
 ],
 "metadata": {
  "interpreter": {
   "hash": "77484ce416118502741a8d3f016440e56baf463ce99ead0d2989916382f7c35f"
  },
  "kernelspec": {
   "display_name": "Python 3.9.7 64-bit ('l1-python': conda)",
   "language": "python",
   "name": "python3"
  },
  "language_info": {
   "codemirror_mode": {
    "name": "ipython",
    "version": 3
   },
   "file_extension": ".py",
   "mimetype": "text/x-python",
   "name": "python",
   "nbconvert_exporter": "python",
   "pygments_lexer": "ipython3",
   "version": "3.9.7"
  },
  "orig_nbformat": 4
 },
 "nbformat": 4,
 "nbformat_minor": 2
}
