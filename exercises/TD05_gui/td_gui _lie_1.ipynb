{
 "cells": [
  {
   "cell_type": "code",
   "execution_count": 2,
   "metadata": {},
   "outputs": [],
   "source": [
    "import tkinter as tk\n",
    "\n",
    "CANVAS_WIDTH, CANVAS_HEIGHT = 600, 400\n",
    "root = tk.Tk()\n",
    "\n",
    "canvas = tk.Canvas(root, width = CANVAS_WIDTH, height = CANVAS_HEIGHT)\n",
    "\n",
    "    # Début de votre code\n",
    "x0 = 100\n",
    "x1 = CANVAS_WIDTH - 100\n",
    "y = CANVAS_HEIGHT / 2\n",
    "canvas.create_line(CANVAS_WIDTH/2, y/8, CANVAS_WIDTH/2, y*2)\n",
    "canvas.create_oval(CANVAS_WIDTH/2 - 50, y/8 + 50, CANVAS_WIDTH/2 + 50, y/8 - 50)\n",
    "canvas.create_oval(CANVAS_WIDTH/2 - 50, y*2 + 50, CANVAS_WIDTH/2 + 50, y*2 - 50)\n",
    "canvas.create_oval((x0 + x1) / 2 - 50, y + 50, (x0 + x1) / 2 + 50, y - 50)\n",
    "    \n",
    "    # Fin de votre code\n",
    "\n",
    "canvas.grid()\n",
    "root.mainloop()\n"
   ]
  },
  {
   "cell_type": "code",
   "execution_count": 3,
   "metadata": {},
   "outputs": [
    {
     "name": "stderr",
     "output_type": "stream",
     "text": [
      "Exception in Tkinter callback\n",
      "Traceback (most recent call last):\n",
      "  File \"/opt/miniconda3/envs/l1-python/lib/python3.9/tkinter/__init__.py\", line 1892, in __call__\n",
      "    return self.func(*args)\n",
      "  File \"/var/folders/tb/39mh8c6d6q1f4y2_gb67hv2m0000gn/T/ipykernel_92866/1037032303.py\", line 7, in creation_cercle\n",
      "    tableau.create_oval((a-50,b-50),(a+50,b+50), fill= cc )\n",
      "NameError: name 'cc' is not defined\n"
     ]
    }
   ],
   "source": [
    "\n",
    "def creation_cercle():\n",
    "    global Height\n",
    "    global Width\n",
    "    global cc\n",
    "    a = randint(Width-550,Width-50)\n",
    "    b = randint(Height-550,Height-50)\n",
    "    tableau.create_oval((a-50,b-50),(a+50,b+50), fill= cc )\n",
    "def creation_carré():\n",
    "    a = randint(Width-550,Width-50)\n",
    "    b = randint(Height-550,Height-50)\n",
    "    tableau.create_rectangle((a-50,b-50),(a+50,b+50), fill= cc )\n",
    "def creation_croix():\n",
    "    a = randint(Width-550,Width-50)\n",
    "    b = randint(Height-550,Height-50)\n",
    "    tableau.create_rectangle((a-50,b-50),(a+50,b+50), outline= cc)\n",
    "    tableau.create_line((a-50,b-50),(a+50,b+50), fill =cc)\n",
    "    tableau.create_line((a+50,b-50),(a-50,b+50),fill = cc)\n",
    "def choisir_couleur() :\n",
    "    global cc\n",
    "    cc = input(\"la couleur ?\")\n",
    "\n",
    "\n",
    "\n",
    "import tkinter as tk \n",
    "from random import *\n",
    "Width=600\n",
    "Height=600\n",
    "dessin = tk.Tk()\n",
    "dessin.title(\"mon dessin\")\n",
    "cercle = tk.Button(dessin, text = \"cercle\", command= creation_cercle)\n",
    "carre = tk.Button(dessin,text= \"carré\", command= creation_carré)\n",
    "croix = tk.Button(dessin, text = \"croix\", command= creation_croix)\n",
    "couleur = tk.Button(dessin,text = \"choisir la couleur\", command= choisir_couleur)\n",
    "cercle.grid(column= 0,row = 1)\n",
    "carre.grid(column = 0,row = 2)\n",
    "croix.grid(column= 0,row = 3)\n",
    "couleur.grid(column= 1,row = 0)\n",
    "tableau = tk.Canvas(dessin,width=600, height=600, bg = \"black\")\n",
    "tableau.grid(column= 1,row = 1, rowspan=3)\n",
    "dessin.mainloop()"
   ]
  },
  {
   "cell_type": "code",
   "execution_count": 4,
   "metadata": {},
   "outputs": [],
   "source": [
    "def creation_illusion():\n",
    "    global Height\n",
    "    global Width\n",
    "    global cc\n",
    "    couleurs = [\"blue\", \"green\", \"black\", \"yellow\", \"magenta\",\"red\"]\n",
    "    a = 0\n",
    "    b = 600\n",
    "    while a < 300 :\n",
    "        for i in range(0,6):\n",
    "            tableau.create_oval((a,a),(b,b), fill = couleurs[i], outline = couleurs[i])\n",
    "            a += 10\n",
    "            b -= 10\n",
    "  \n",
    "\n",
    "   \n",
    "\n",
    "\n",
    "\n",
    "import tkinter as tk \n",
    "from random import *\n",
    "Width=600\n",
    "Height=600\n",
    "dessin = tk.Tk()\n",
    "dessin.title(\"mon dessin\")\n",
    "cercle = tk.Button(dessin, text = \"cercle\", command= creation_illusion)\n",
    "cercle.grid(column= 0,row = 1)\n",
    "tableau = tk.Canvas(dessin,width=600, height=600, bg = \"black\")\n",
    "tableau.grid(column= 1,row = 1, rowspan=3)\n",
    "dessin.mainloop()"
   ]
  },
  {
   "cell_type": "code",
   "execution_count": 12,
   "metadata": {},
   "outputs": [],
   "source": []
  }
 ],
 "metadata": {
  "interpreter": {
   "hash": "77484ce416118502741a8d3f016440e56baf463ce99ead0d2989916382f7c35f"
  },
  "kernelspec": {
   "display_name": "Python 3.9.7 64-bit ('l1-python': conda)",
   "language": "python",
   "name": "python3"
  },
  "language_info": {
   "codemirror_mode": {
    "name": "ipython",
    "version": 3
   },
   "file_extension": ".py",
   "mimetype": "text/x-python",
   "name": "python",
   "nbconvert_exporter": "python",
   "pygments_lexer": "ipython3",
   "version": "3.9.7"
  },
  "orig_nbformat": 4
 },
 "nbformat": 4,
 "nbformat_minor": 2
}
