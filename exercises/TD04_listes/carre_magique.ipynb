{
 "cells": [
  {
   "cell_type": "code",
   "execution_count": 46,
   "metadata": {},
   "outputs": [
    {
     "name": "stdout",
     "output_type": "stream",
     "text": [
      "[4, 14, 15, 1]\n",
      "[9, 7, 6, 12]\n",
      "[5, 11, 10, 8]\n",
      "[16, 2, 3, 13]\n",
      "---------------\n",
      "[4, 14, 15, 1]\n",
      "[9, 7, 6, 12]\n",
      "[5, 11, 10, 8]\n",
      "[16, 2, 7, 13]\n",
      "---------------\n",
      "True\n"
     ]
    }
   ],
   "source": [
    "def affichecarre(carre):\n",
    "    \"\"\"nous affiche un carre \"\"\"\n",
    "    for i in range(len(carre)):\n",
    "        print(carre[i])\n",
    "    print(\"---------------\")\n",
    "\n",
    "\n",
    "def test_lignes(carre):\n",
    "    ligne = [0,0,0,0]\n",
    "    for i in range(len(carre)):\n",
    "        ligne[i] = carre[i][0] + carre[i][1] + carre[i][2] + carre[i][3]\n",
    "    verif = ligne[0] == ligne[1] == ligne[2] == ligne[3]\n",
    "    return verif\n",
    "        \n",
    "\n",
    "def test_colonnes(carre):\n",
    "    colonne = [0,0,0,0]\n",
    "    for i in range(len(carre)):\n",
    "        colonne[i] = carre[0][i] + carre[1][i] + carre[2][i] + carre[3][i]\n",
    "    verif = colonne[0] == colonne[1] == colonne[2] == colonne[3]\n",
    "    return verif\n",
    "        \n",
    "\n",
    "def test_diagonales(carre):\n",
    "    diagonales1 = [0,0,0,0]\n",
    "    diagonales2 = [0,0,0,0]     \n",
    "    for i in range(len(carre)):\n",
    "        diagonales2[i] = carre[i][3-i]\n",
    "        diagonales1[i] = carre[i][i] \n",
    "    somme1 = diagonales1[0] + diagonales1[1] + diagonales1[2] + diagonales1[3]\n",
    "    somme2 = diagonales2[0] + diagonales2[1] + diagonales2[2] + diagonales2[3]\n",
    "    verif = somme1 == somme2\n",
    "    return verif\n",
    "\n",
    "\n",
    "def test_carre(carre):\n",
    "    test1 = test_lignes(carre)\n",
    "    test2 = test_colonnes(carre)\n",
    "    test3 = test_diagonales(carre)\n",
    "    test_final = test1 == True and test2 == True and test3 == True\n",
    "    return test_final\n",
    "\n",
    "\n",
    "def test_entiers(carre):\n",
    "    entiers = [] \n",
    "    for i in range(1,len(carre)**2+1):\n",
    "        entiers.append(i)\n",
    "    for j in range(len(carre)):\n",
    "        for k in range(len(carre[j])):\n",
    "            if carre[j][k] in entiers:\n",
    "                entiers.remove(carre[j][k])\n",
    "    \n",
    "    verif = entiers == []\n",
    "    return verif\n",
    "\n",
    "\n",
    "carre_mag = [[4,14,15,1],[9,7,6,12],[5,11,10,8],[16,2,3,13]]\n",
    "carre_no_mag = [[4,14,15,1],[9,7,6,12],[5,11,10,8],[16,2,7,13]]\n",
    "affichecarre(carre_mag)\n",
    "affichecarre(carre_no_mag)\n",
    "print(test_carre(carre_mag))"
   ]
  }
 ],
 "metadata": {
  "interpreter": {
   "hash": "77484ce416118502741a8d3f016440e56baf463ce99ead0d2989916382f7c35f"
  },
  "kernelspec": {
   "display_name": "Python 3.9.7 64-bit ('l1-python': conda)",
   "language": "python",
   "name": "python3"
  },
  "language_info": {
   "codemirror_mode": {
    "name": "ipython",
    "version": 3
   },
   "file_extension": ".py",
   "mimetype": "text/x-python",
   "name": "python",
   "nbconvert_exporter": "python",
   "pygments_lexer": "ipython3",
   "version": "3.9.7"
  },
  "orig_nbformat": 4
 },
 "nbformat": 4,
 "nbformat_minor": 2
}
