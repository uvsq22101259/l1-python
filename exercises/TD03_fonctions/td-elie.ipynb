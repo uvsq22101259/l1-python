{
 "cells": [
  {
   "cell_type": "code",
   "execution_count": 32,
   "metadata": {},
   "outputs": [
    {
     "name": "stdout",
     "output_type": "stream",
     "text": [
      "<class 'list'>\n",
      "342094\n",
      "0 jours 0 heures 1 minutes 0 secondes\n"
     ]
    }
   ],
   "source": [
    "#temps[0] : jours, temps[1]: heures, temps[2]: minutes, temps[3]: secondes\n",
    "\n",
    "def tempsEnSeconde(temps):\n",
    "    \"\"\" Renvoie la valeur en seconde de temps donné comme jour, heure, minute, seconde.\"\"\"\n",
    "    tempsEnSeconde = (temps[0]*3600*24) + (temps[1]*3600) + (temps[2]*60) + (temps[3])\n",
    "    return tempsEnSeconde\n",
    "temps = [3,23,1,34]\n",
    "print(type(temps))\n",
    "print(tempsEnSeconde(temps))   \n",
    "\n",
    "def secondeEnTemps(seconde):\n",
    "    temps =[0,0,0,0]\n",
    "    if seconde >= 365*24*3600:\n",
    "        temps =[]\n",
    "        temps.append( seconde // (365*24*3600))\n",
    "        temps.append((seconde %(365*24*3600)) // (24*3600))\n",
    "        temps.append(((seconde %(365*24*3600)) % (24*3600) )//3600)\n",
    "        temps.append((((seconde %(365*24*3600)) % (24*3600) )%3600)//60)\n",
    "        temps.append(((((seconde %(365*24*3600)) % (24*3600) )%3600)%60  ) // 60)\n",
    "    elif seconde >= 24 *3600:\n",
    "        temps[0] = seconde // (24*3600)\n",
    "        temps[1] = (seconde % (24*3600) )//3600\n",
    "        temps[2] = ((seconde  % (24*3600) )% 3600)//60 \n",
    "        temps[3] = (((seconde  % (24*3600) )% 3600 )% 60 ) // 60\n",
    "    elif seconde >= 3600 :\n",
    "        temps[1] = (seconde //3600)\n",
    "        temps[2] = ((seconde % 3600)//60 )\n",
    "        temps[3] = ((seconde  %  3600 )% 60 ) // 60\n",
    "    elif  seconde >= 60 :\n",
    "        temps[2] = (seconde //60 )\n",
    "        temps[3] = (seconde % 60 ) \n",
    "    elif seconde < 60 :\n",
    "        temps[3] = seconde\n",
    "\n",
    "    return temps\n",
    "temps = secondeEnTemps(60)\n",
    "print(temps[0],\"jours\",temps[1],\"heures\",temps[2],\"minutes\",temps[3],\"secondes\")\n"
   ]
  },
  {
   "cell_type": "code",
   "execution_count": 4,
   "metadata": {},
   "outputs": [
    {
     "name": "stdout",
     "output_type": "stream",
     "text": [
      "4 jours 23 heures 1 minute 34 secondes "
     ]
    }
   ],
   "source": [
    "    \"\"\"def afficheTemps(temps):\n",
    "    if temps[0] > 1:\n",
    "        print (temps[0], \"jours\",end=\" \")\n",
    "    elif temps[0] == 0 :\n",
    "        pass\n",
    "    else: \n",
    "        print(temps[0], \"jour\", end=\" \")\n",
    "    if temps[1] > 1:\n",
    "        print (temps[1], \"heures\",end=\" \")\n",
    "    elif temps[1] == 0 :\n",
    "       pass\n",
    "    else: \n",
    "        print(temps[1], \"heure\", end=\" \")\n",
    "    if temps[2] > 1:\n",
    "        print (temps[2], \"minutes\",end=\" \")\n",
    "    elif temps[2] == 0 :\n",
    "        pass\n",
    "    else: \n",
    "        print(temps[2], \"minute\", end=\" \")\n",
    "    if temps[3] > 1:\n",
    "        print (temps[3], \"secondes\",end=\" \")\n",
    "    elif temps[3] == 0 :\n",
    "       pass\n",
    "    else: \n",
    "        print(temps[3], \"seconde\", end=\" \")\n",
    "afficheTemps((4,23,1,34))  \"\"\""
   ]
  },
  {
   "cell_type": "code",
   "execution_count": 5,
   "metadata": {},
   "outputs": [
    {
     "name": "stdout",
     "output_type": "stream",
     "text": [
      "2 jours 2 heures 2 minutes 2 secondes "
     ]
    }
   ],
   "source": [
    "def demandeTemps():\n",
    "    temps_in = [int(input(\"jours\")), int(input(\"heures\")), int(input(\"minutes\")), int(input(\"secondes\"))]\n",
    "    while temps_in[1] > 24 or temps_in[2] > 60 or temps_in[3] > 60:\n",
    "        print (\"veiller entrer des nombres s'il vous plait !!!\")\n",
    "        temps_in = [int(input(\"jours\")), int(input(\"heures\")), int(input(\"minutes\")), int(input(\"secondes\"))]\n",
    "\n",
    "    return temps_in\n",
    "\n",
    "afficheTemps(demandeTemps())"
   ]
  },
  {
   "cell_type": "code",
   "execution_count": 6,
   "metadata": {},
   "outputs": [
    {
     "data": {
      "text/plain": [
       "(5, 7, 5, 7)"
      ]
     },
     "execution_count": 6,
     "metadata": {},
     "output_type": "execute_result"
    }
   ],
   "source": [
    "def sommeTemps(temps1,temps2):\n",
    "    sommeTemp = (temps1[0] + temps2[0]),(temps1[1] + temps2[1]), (temps1[2] + temps2[2]), (temps1[3] + temps2[3])\n",
    "    return sommeTemp\n",
    "\n",
    "sommeTemps(demandeTemps(),demandeTemps())"
   ]
  },
  {
   "cell_type": "code",
   "execution_count": 7,
   "metadata": {},
   "outputs": [
    {
     "name": "stdout",
     "output_type": "stream",
     "text": [
      "0.405 jour 9.72 heures 43.2 minutes 0.2 seconde "
     ]
    }
   ],
   "source": [
    "def proportionTemps(temps,proportion):\n",
    "    h1 = tempsEnSeconde(temps)* proportion\n",
    "    h2 = secondeEnTemps (h1)\n",
    "    return h2\n",
    "afficheTemps(proportionTemps((2,0,36,0),0.2))\n",
    "#appeler la fonction en échangeant l'ordre des arguments"
   ]
  },
  {
   "cell_type": "code",
   "execution_count": 40,
   "metadata": {},
   "outputs": [
    {
     "name": "stdout",
     "output_type": "stream",
     "text": [
      "[2, 0, 0, 0, 0]\n",
      "nous sommes le  0 / 1972  il est  0 h  0 min et  0 s\n"
     ]
    }
   ],
   "source": [
    "def tempsEnDate(temps):\n",
    "    \"\"\"temps =[0,0,0,0]\n",
    "    if seconde >= 365*24*3600:\n",
    "        temps[0] = seconde / (365*24*3600)\n",
    "        temps[1] = (seconde %(365*24*3600)) / (24*3600)\n",
    "        temps[2] = ((seconde %(365*24*3600)) % (24*3600) )/3600\n",
    "        temps[3] = (((seconde %(365*24*3600)) % (24*3600) )%3600)/60 \n",
    "        temps[4] = ((((seconde %(365*24*3600)) % (24*3600) )%3600)%60  ) / 60\n",
    "    elif seconde >= 24 *3600:\n",
    "        temps[0] = seconde / (24*3600)\n",
    "        temps[1] = (seconde % (24*3600) )/3600\n",
    "        temps[2] = ((seconde  % (24*3600) )% 3600)/60 \n",
    "        temps[3] = (((seconde  % (24*3600) )% 3600 )% 60 ) / 60\n",
    "    elif seconde >= 3600 :\n",
    "        temps[1] = (seconde /3600)\n",
    "        temps[2] = ((seconde % 3600)/60 )\n",
    "        temps[3] = ((seconde  %  3600 )% 60 ) / 60\n",
    "    elif  seconde >= 60 :\n",
    "        temps[2] = (seconde /60 )\n",
    "        temps[3] = (seconde % 60 ) \n",
    "    elif seconde < 60 :\n",
    "        temps[3] = seconde\n",
    "\n",
    "    return temps\"\"\"\n",
    "    \n",
    "    if len(temps) >= 5 :\n",
    "        print(\"nous sommes le \",temps[1],\"/\",1970+temps[0],\" il est \",temps[2],\"h \",temps[3],\"min et \",temps[4],\"s\")\n",
    "    \n",
    "    \n",
    "\n",
    "def afficheDate(date = -1):\n",
    "    pass\n",
    "    \n",
    "temps = secondeEnTemps(24*3600*730)\n",
    "print(temps)\n",
    "#afficheTemps(temps)\n",
    "tempsEnDate(temps)\n",
    "afficheDate()"
   ]
  },
  {
   "cell_type": "code",
   "execution_count": null,
   "metadata": {},
   "outputs": [],
   "source": []
  }
 ],
 "metadata": {
  "interpreter": {
   "hash": "77484ce416118502741a8d3f016440e56baf463ce99ead0d2989916382f7c35f"
  },
  "kernelspec": {
   "display_name": "Python 3.9.7 64-bit ('l1-python': conda)",
   "language": "python",
   "name": "python3"
  },
  "language_info": {
   "codemirror_mode": {
    "name": "ipython",
    "version": 3
   },
   "file_extension": ".py",
   "mimetype": "text/x-python",
   "name": "python",
   "nbconvert_exporter": "python",
   "pygments_lexer": "ipython3",
   "version": "3.9.7"
  },
  "orig_nbformat": 4
 },
 "nbformat": 4,
 "nbformat_minor": 2
}
